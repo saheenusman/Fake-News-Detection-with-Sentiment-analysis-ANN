{
 "cells": [
  {
   "cell_type": "code",
   "execution_count": 1,
   "metadata": {},
   "outputs": [
    {
     "data": {
      "text/html": [
       "<div>\n",
       "<style scoped>\n",
       "    .dataframe tbody tr th:only-of-type {\n",
       "        vertical-align: middle;\n",
       "    }\n",
       "\n",
       "    .dataframe tbody tr th {\n",
       "        vertical-align: top;\n",
       "    }\n",
       "\n",
       "    .dataframe thead th {\n",
       "        text-align: right;\n",
       "    }\n",
       "</style>\n",
       "<table border=\"1\" class=\"dataframe\">\n",
       "  <thead>\n",
       "    <tr style=\"text-align: right;\">\n",
       "      <th></th>\n",
       "      <th>text</th>\n",
       "      <th>target</th>\n",
       "    </tr>\n",
       "  </thead>\n",
       "  <tbody>\n",
       "    <tr>\n",
       "      <th>0</th>\n",
       "      <td>great story anyone understand power one libera...</td>\n",
       "      <td>1</td>\n",
       "    </tr>\n",
       "    <tr>\n",
       "      <th>1</th>\n",
       "      <td>tirana reuters albania planning try lure five ...</td>\n",
       "      <td>0</td>\n",
       "    </tr>\n",
       "    <tr>\n",
       "      <th>2</th>\n",
       "      <td>washington reuters u president donald trump sa...</td>\n",
       "      <td>0</td>\n",
       "    </tr>\n",
       "    <tr>\n",
       "      <th>3</th>\n",
       "      <td>recently noticed seen melania trump recently l...</td>\n",
       "      <td>1</td>\n",
       "    </tr>\n",
       "    <tr>\n",
       "      <th>4</th>\n",
       "      <td>washington reuters u president elect donald tr...</td>\n",
       "      <td>0</td>\n",
       "    </tr>\n",
       "    <tr>\n",
       "      <th>...</th>\n",
       "      <td>...</td>\n",
       "      <td>...</td>\n",
       "    </tr>\n",
       "    <tr>\n",
       "      <th>44893</th>\n",
       "      <td>washington reuters california wisconsin said u...</td>\n",
       "      <td>0</td>\n",
       "    </tr>\n",
       "    <tr>\n",
       "      <th>44894</th>\n",
       "      <td>reuters gift wrapped package addressed u treas...</td>\n",
       "      <td>0</td>\n",
       "    </tr>\n",
       "    <tr>\n",
       "      <th>44895</th>\n",
       "      <td>new york reuters continental resource chief ex...</td>\n",
       "      <td>0</td>\n",
       "    </tr>\n",
       "    <tr>\n",
       "      <th>44896</th>\n",
       "      <td>wow talk clueless austen fletcher approach ant...</td>\n",
       "      <td>1</td>\n",
       "    </tr>\n",
       "    <tr>\n",
       "      <th>44897</th>\n",
       "      <td>donald trump calling one controversial raciall...</td>\n",
       "      <td>1</td>\n",
       "    </tr>\n",
       "  </tbody>\n",
       "</table>\n",
       "<p>44898 rows × 2 columns</p>\n",
       "</div>"
      ],
      "text/plain": [
       "                                                    text  target\n",
       "0      great story anyone understand power one libera...       1\n",
       "1      tirana reuters albania planning try lure five ...       0\n",
       "2      washington reuters u president donald trump sa...       0\n",
       "3      recently noticed seen melania trump recently l...       1\n",
       "4      washington reuters u president elect donald tr...       0\n",
       "...                                                  ...     ...\n",
       "44893  washington reuters california wisconsin said u...       0\n",
       "44894  reuters gift wrapped package addressed u treas...       0\n",
       "44895  new york reuters continental resource chief ex...       0\n",
       "44896  wow talk clueless austen fletcher approach ant...       1\n",
       "44897  donald trump calling one controversial raciall...       1\n",
       "\n",
       "[44898 rows x 2 columns]"
      ]
     },
     "execution_count": 1,
     "metadata": {},
     "output_type": "execute_result"
    }
   ],
   "source": [
    "import numpy as np\n",
    "import pandas as pd\n",
    "df = pd.read_csv('pr.csv')\n",
    "df\n",
    "\n"
   ]
  },
  {
   "cell_type": "code",
   "execution_count": 2,
   "metadata": {},
   "outputs": [
    {
     "data": {
      "text/plain": [
       "text      632\n",
       "target      0\n",
       "dtype: int64"
      ]
     },
     "execution_count": 2,
     "metadata": {},
     "output_type": "execute_result"
    }
   ],
   "source": [
    "df.isna().sum()"
   ]
  },
  {
   "cell_type": "code",
   "execution_count": 3,
   "metadata": {},
   "outputs": [],
   "source": [
    "df.dropna(inplace=True)"
   ]
  },
  {
   "cell_type": "code",
   "execution_count": 4,
   "metadata": {},
   "outputs": [
    {
     "data": {
      "text/plain": [
       "text      0\n",
       "target    0\n",
       "dtype: int64"
      ]
     },
     "execution_count": 4,
     "metadata": {},
     "output_type": "execute_result"
    }
   ],
   "source": [
    "df.isna().sum()"
   ]
  },
  {
   "cell_type": "code",
   "execution_count": 5,
   "metadata": {},
   "outputs": [],
   "source": [
    "text=df.text"
   ]
  },
  {
   "cell_type": "code",
   "execution_count": 6,
   "metadata": {},
   "outputs": [
    {
     "data": {
      "text/plain": [
       "<44266x115519 sparse matrix of type '<class 'numpy.float64'>'\n",
       "\twith 7282168 stored elements in Compressed Sparse Row format>"
      ]
     },
     "execution_count": 6,
     "metadata": {},
     "output_type": "execute_result"
    }
   ],
   "source": [
    "from sklearn.feature_extraction.text import TfidfVectorizer\n",
    "vec=TfidfVectorizer()\n",
    "data=vec.fit_transform(text)\n",
    "data"
   ]
  },
  {
   "cell_type": "code",
   "execution_count": 7,
   "metadata": {},
   "outputs": [
    {
     "name": "stdout",
     "output_type": "stream",
     "text": [
      "  (0, 110645)\t0.025633113050289265\n",
      "  (0, 98893)\t0.07041422728908041\n",
      "  (0, 26154)\t0.034047130889630274\n",
      "  (0, 73222)\t0.029636289679714788\n",
      "  (0, 23216)\t0.06955463286668621\n",
      "  (0, 38818)\t0.03263131686918805\n",
      "  (0, 86487)\t0.056151272899188746\n",
      "  (0, 28538)\t0.055476159801884126\n",
      "  (0, 79944)\t0.020505382454013465\n",
      "  (0, 12258)\t0.05643312174282786\n",
      "  (0, 40084)\t0.026213099396897605\n",
      "  (0, 98964)\t0.04036368455694733\n",
      "  (0, 49079)\t0.053367902337204016\n",
      "  (0, 71225)\t0.04434068630286021\n",
      "  (0, 60419)\t0.028711999850244963\n",
      "  (0, 12370)\t0.037295415381100344\n",
      "  (0, 48419)\t0.03081227588913007\n",
      "  (0, 38798)\t0.060417644532626144\n",
      "  (0, 46756)\t0.08293766332145074\n",
      "  (0, 39059)\t0.06884220338745133\n",
      "  (0, 28776)\t0.05938748267657344\n",
      "  (0, 87388)\t0.04294959317059809\n",
      "  (0, 28843)\t0.03794067703199279\n",
      "  (0, 98982)\t0.06964695432460498\n",
      "  (0, 53459)\t0.0580580602706257\n",
      "  :\t:\n",
      "  (44265, 26154)\t0.033723667928875704\n",
      "  (44265, 79944)\t0.06093171646757109\n",
      "  (44265, 60419)\t0.028439223018891648\n",
      "  (44265, 48419)\t0.0152597727483464\n",
      "  (44265, 28843)\t0.11274067092801729\n",
      "  (44265, 30371)\t0.02398979386648955\n",
      "  (44265, 12315)\t0.03749357107680378\n",
      "  (44265, 12451)\t0.035295711688592045\n",
      "  (44265, 20895)\t0.15507947869144076\n",
      "  (44265, 72865)\t0.05921643986976912\n",
      "  (44265, 38835)\t0.04897145151361396\n",
      "  (44265, 110182)\t0.04412761772693301\n",
      "  (44265, 76388)\t0.08114535413313533\n",
      "  (44265, 86489)\t0.041037798843458075\n",
      "  (44265, 112634)\t0.030277586046391913\n",
      "  (44265, 30420)\t0.06803130923626835\n",
      "  (44265, 103184)\t0.04374315282048627\n",
      "  (44265, 73601)\t0.09027189832131495\n",
      "  (44265, 81716)\t0.17479998674101122\n",
      "  (44265, 41760)\t0.03276350046054773\n",
      "  (44265, 12472)\t0.043448578686559304\n",
      "  (44265, 27441)\t0.13506406166551566\n",
      "  (44265, 35390)\t0.04448678924906937\n",
      "  (44265, 57815)\t0.04213688582560024\n",
      "  (44265, 76866)\t0.019538901039617137\n"
     ]
    }
   ],
   "source": [
    "print(data)"
   ]
  },
  {
   "cell_type": "code",
   "execution_count": 8,
   "metadata": {},
   "outputs": [],
   "source": [
    "y=df['target']"
   ]
  },
  {
   "cell_type": "code",
   "execution_count": 10,
   "metadata": {},
   "outputs": [
    {
     "name": "stdout",
     "output_type": "stream",
     "text": [
      "Epoch 1/100\n",
      "\u001b[1m968/968\u001b[0m \u001b[32m━━━━━━━━━━━━━━━━━━━━\u001b[0m\u001b[37m\u001b[0m \u001b[1m136s\u001b[0m 139ms/step - accuracy: 0.9596 - loss: 0.1779 - val_accuracy: 0.9883 - val_loss: 0.0340 - learning_rate: 0.0010\n",
      "Epoch 2/100\n",
      "\u001b[1m968/968\u001b[0m \u001b[32m━━━━━━━━━━━━━━━━━━━━\u001b[0m\u001b[37m\u001b[0m \u001b[1m138s\u001b[0m 142ms/step - accuracy: 0.9982 - loss: 0.0072 - val_accuracy: 0.9902 - val_loss: 0.0311 - learning_rate: 0.0010\n",
      "Epoch 3/100\n",
      "\u001b[1m968/968\u001b[0m \u001b[32m━━━━━━━━━━━━━━━━━━━━\u001b[0m\u001b[37m\u001b[0m \u001b[1m133s\u001b[0m 138ms/step - accuracy: 0.9999 - loss: 0.0011 - val_accuracy: 0.9900 - val_loss: 0.0312 - learning_rate: 0.0010\n",
      "Epoch 4/100\n",
      "\u001b[1m968/968\u001b[0m \u001b[32m━━━━━━━━━━━━━━━━━━━━\u001b[0m\u001b[37m\u001b[0m \u001b[1m132s\u001b[0m 136ms/step - accuracy: 0.9999 - loss: 7.6083e-04 - val_accuracy: 0.9901 - val_loss: 0.0319 - learning_rate: 0.0010\n",
      "Epoch 5/100\n",
      "\u001b[1m968/968\u001b[0m \u001b[32m━━━━━━━━━━━━━━━━━━━━\u001b[0m\u001b[37m\u001b[0m \u001b[1m134s\u001b[0m 138ms/step - accuracy: 0.9999 - loss: 6.7931e-04 - val_accuracy: 0.9901 - val_loss: 0.0326 - learning_rate: 0.0010\n",
      "Epoch 6/100\n",
      "\u001b[1m968/968\u001b[0m \u001b[32m━━━━━━━━━━━━━━━━━━━━\u001b[0m\u001b[37m\u001b[0m \u001b[1m137s\u001b[0m 142ms/step - accuracy: 1.0000 - loss: 1.3885e-04 - val_accuracy: 0.9904 - val_loss: 0.0328 - learning_rate: 5.0000e-04\n",
      "Epoch 7/100\n",
      "\u001b[1m968/968\u001b[0m \u001b[32m━━━━━━━━━━━━━━━━━━━━\u001b[0m\u001b[37m\u001b[0m \u001b[1m148s\u001b[0m 153ms/step - accuracy: 1.0000 - loss: 6.9689e-05 - val_accuracy: 0.9904 - val_loss: 0.0333 - learning_rate: 5.0000e-04\n",
      "\u001b[1m415/415\u001b[0m \u001b[32m━━━━━━━━━━━━━━━━━━━━\u001b[0m\u001b[37m\u001b[0m \u001b[1m11s\u001b[0m 27ms/step - accuracy: 0.9892 - loss: 0.0334\n"
     ]
    },
    {
     "name": "stderr",
     "output_type": "stream",
     "text": [
      "WARNING:absl:You are saving your model as an HDF5 file via `model.save()` or `keras.saving.save_model(model)`. This file format is considered legacy. We recommend using instead the native Keras format, e.g. `model.save('my_model.keras')` or `keras.saving.save_model(model, 'my_model.keras')`. \n"
     ]
    },
    {
     "name": "stdout",
     "output_type": "stream",
     "text": [
      "Test accuracy: 0.9902108311653137\n"
     ]
    }
   ],
   "source": [
    "import numpy as np\n",
    "from sklearn.feature_extraction.text import TfidfVectorizer\n",
    "from sklearn.preprocessing import MaxAbsScaler\n",
    "from sklearn.model_selection import train_test_split\n",
    "from tensorflow.keras.models import Sequential\n",
    "from tensorflow.keras.layers import Dense\n",
    "from tensorflow.keras.callbacks import EarlyStopping, ReduceLROnPlateau\n",
    "import tensorflow as tf\n",
    "from scipy.sparse import csr_matrix\n",
    "\n",
    "x_train, x_test, y_train, y_test = train_test_split(data, y, test_size=0.3, random_state=42)\n",
    "\n",
    "# Scale the data using MaxAbsScaler\n",
    "scaler = MaxAbsScaler()\n",
    "x_train_scaled = scaler.fit_transform(x_train)\n",
    "x_test_scaled = scaler.transform(x_test)\n",
    "\n",
    "# Convert the scaled data back to sparse matrices\n",
    "x_train_csr = csr_matrix(x_train_scaled)\n",
    "x_test_csr = csr_matrix(x_test_scaled)\n",
    "\n",
    "# Convert labels to numpy array\n",
    "y_train = np.array(y_train)\n",
    "y_test = np.array(y_test)\n",
    "# Define a generator to yield batches of data\n",
    "def data_generator(x_data, y_data, batch_size):\n",
    "    num_samples = x_data.shape[0]\n",
    "    while True:\n",
    "        for offset in range(0, num_samples, batch_size):\n",
    "            batch_x = x_data[offset:offset+batch_size].toarray()\n",
    "            batch_y = y_data[offset:offset+batch_size]\n",
    "            yield batch_x, batch_y\n",
    "# Define a simpler ANN model\n",
    "model = Sequential()\n",
    "model.add(Dense(64, input_shape=(x_train_scaled.shape[1],), activation='relu'))\n",
    "model.add(Dense(1, activation='sigmoid'))\n",
    "\n",
    "# Compile the model\n",
    "model.compile(loss='binary_crossentropy', optimizer='adam', metrics=['accuracy'])\n",
    "\n",
    "# Early stopping and learning rate reduction callbacks\n",
    "early_stopping = EarlyStopping(monitor='val_loss', patience=5, restore_best_weights=True)\n",
    "reduce_lr = ReduceLROnPlateau(monitor='val_loss', factor=0.5, patience=3, min_lr=0.00001)\n",
    "\n",
    "# Training parameters\n",
    "batch_size = 32\n",
    "steps_per_epoch = x_train_csr.shape[0] // batch_size\n",
    "validation_steps = x_test_csr.shape[0] // batch_size\n",
    "\n",
    "# Train the model\n",
    "history = model.fit(\n",
    "    data_generator(x_train_csr, y_train, batch_size),\n",
    "    steps_per_epoch=steps_per_epoch,\n",
    "    epochs=100,\n",
    "    validation_data=data_generator(x_test_csr, y_test, batch_size),\n",
    "    validation_steps=validation_steps,\n",
    "    callbacks=[early_stopping, reduce_lr]\n",
    ")\n",
    "\n",
    "# Evaluate the model\n",
    "score = model.evaluate(data_generator(x_test_csr, y_test, batch_size), steps=validation_steps)\n",
    "print('Test accuracy:', score[1])\n",
    "\n",
    "# Save the model to a file\n",
    "model.save('fake_news_detection_model_simple.h5')\n"
   ]
  },
  {
   "cell_type": "code",
   "execution_count": 12,
   "metadata": {},
   "outputs": [
    {
     "data": {
      "text/plain": [
       "['maxabs_scaler.joblib']"
      ]
     },
     "execution_count": 12,
     "metadata": {},
     "output_type": "execute_result"
    }
   ],
   "source": [
    "import joblib\n",
    "\n",
    "# Save the vectorizer and scaler\n",
    "joblib.dump(vec, 'tfidf_vectorizer.joblib')\n",
    "joblib.dump(scaler, 'maxabs_scaler.joblib')\n"
   ]
  },
  {
   "cell_type": "code",
   "execution_count": 11,
   "metadata": {},
   "outputs": [
    {
     "data": {
      "text/html": [
       "<pre style=\"white-space:pre;overflow-x:auto;line-height:normal;font-family:Menlo,'DejaVu Sans Mono',consolas,'Courier New',monospace\"><span style=\"font-weight: bold\">Model: \"sequential_1\"</span>\n",
       "</pre>\n"
      ],
      "text/plain": [
       "\u001b[1mModel: \"sequential_1\"\u001b[0m\n"
      ]
     },
     "metadata": {},
     "output_type": "display_data"
    },
    {
     "data": {
      "text/html": [
       "<pre style=\"white-space:pre;overflow-x:auto;line-height:normal;font-family:Menlo,'DejaVu Sans Mono',consolas,'Courier New',monospace\">┏━━━━━━━━━━━━━━━━━━━━━━━━━━━━━━━━━┳━━━━━━━━━━━━━━━━━━━━━━━━┳━━━━━━━━━━━━━━━┓\n",
       "┃<span style=\"font-weight: bold\"> Layer (type)                    </span>┃<span style=\"font-weight: bold\"> Output Shape           </span>┃<span style=\"font-weight: bold\">       Param # </span>┃\n",
       "┡━━━━━━━━━━━━━━━━━━━━━━━━━━━━━━━━━╇━━━━━━━━━━━━━━━━━━━━━━━━╇━━━━━━━━━━━━━━━┩\n",
       "│ dense_2 (<span style=\"color: #0087ff; text-decoration-color: #0087ff\">Dense</span>)                 │ (<span style=\"color: #00d7ff; text-decoration-color: #00d7ff\">None</span>, <span style=\"color: #00af00; text-decoration-color: #00af00\">64</span>)             │     <span style=\"color: #00af00; text-decoration-color: #00af00\">7,393,280</span> │\n",
       "├─────────────────────────────────┼────────────────────────┼───────────────┤\n",
       "│ dense_3 (<span style=\"color: #0087ff; text-decoration-color: #0087ff\">Dense</span>)                 │ (<span style=\"color: #00d7ff; text-decoration-color: #00d7ff\">None</span>, <span style=\"color: #00af00; text-decoration-color: #00af00\">1</span>)              │            <span style=\"color: #00af00; text-decoration-color: #00af00\">65</span> │\n",
       "└─────────────────────────────────┴────────────────────────┴───────────────┘\n",
       "</pre>\n"
      ],
      "text/plain": [
       "┏━━━━━━━━━━━━━━━━━━━━━━━━━━━━━━━━━┳━━━━━━━━━━━━━━━━━━━━━━━━┳━━━━━━━━━━━━━━━┓\n",
       "┃\u001b[1m \u001b[0m\u001b[1mLayer (type)                   \u001b[0m\u001b[1m \u001b[0m┃\u001b[1m \u001b[0m\u001b[1mOutput Shape          \u001b[0m\u001b[1m \u001b[0m┃\u001b[1m \u001b[0m\u001b[1m      Param #\u001b[0m\u001b[1m \u001b[0m┃\n",
       "┡━━━━━━━━━━━━━━━━━━━━━━━━━━━━━━━━━╇━━━━━━━━━━━━━━━━━━━━━━━━╇━━━━━━━━━━━━━━━┩\n",
       "│ dense_2 (\u001b[38;5;33mDense\u001b[0m)                 │ (\u001b[38;5;45mNone\u001b[0m, \u001b[38;5;34m64\u001b[0m)             │     \u001b[38;5;34m7,393,280\u001b[0m │\n",
       "├─────────────────────────────────┼────────────────────────┼───────────────┤\n",
       "│ dense_3 (\u001b[38;5;33mDense\u001b[0m)                 │ (\u001b[38;5;45mNone\u001b[0m, \u001b[38;5;34m1\u001b[0m)              │            \u001b[38;5;34m65\u001b[0m │\n",
       "└─────────────────────────────────┴────────────────────────┴───────────────┘\n"
      ]
     },
     "metadata": {},
     "output_type": "display_data"
    },
    {
     "data": {
      "text/html": [
       "<pre style=\"white-space:pre;overflow-x:auto;line-height:normal;font-family:Menlo,'DejaVu Sans Mono',consolas,'Courier New',monospace\"><span style=\"font-weight: bold\"> Total params: </span><span style=\"color: #00af00; text-decoration-color: #00af00\">22,180,037</span> (84.61 MB)\n",
       "</pre>\n"
      ],
      "text/plain": [
       "\u001b[1m Total params: \u001b[0m\u001b[38;5;34m22,180,037\u001b[0m (84.61 MB)\n"
      ]
     },
     "metadata": {},
     "output_type": "display_data"
    },
    {
     "data": {
      "text/html": [
       "<pre style=\"white-space:pre;overflow-x:auto;line-height:normal;font-family:Menlo,'DejaVu Sans Mono',consolas,'Courier New',monospace\"><span style=\"font-weight: bold\"> Trainable params: </span><span style=\"color: #00af00; text-decoration-color: #00af00\">7,393,345</span> (28.20 MB)\n",
       "</pre>\n"
      ],
      "text/plain": [
       "\u001b[1m Trainable params: \u001b[0m\u001b[38;5;34m7,393,345\u001b[0m (28.20 MB)\n"
      ]
     },
     "metadata": {},
     "output_type": "display_data"
    },
    {
     "data": {
      "text/html": [
       "<pre style=\"white-space:pre;overflow-x:auto;line-height:normal;font-family:Menlo,'DejaVu Sans Mono',consolas,'Courier New',monospace\"><span style=\"font-weight: bold\"> Non-trainable params: </span><span style=\"color: #00af00; text-decoration-color: #00af00\">0</span> (0.00 B)\n",
       "</pre>\n"
      ],
      "text/plain": [
       "\u001b[1m Non-trainable params: \u001b[0m\u001b[38;5;34m0\u001b[0m (0.00 B)\n"
      ]
     },
     "metadata": {},
     "output_type": "display_data"
    },
    {
     "data": {
      "text/html": [
       "<pre style=\"white-space:pre;overflow-x:auto;line-height:normal;font-family:Menlo,'DejaVu Sans Mono',consolas,'Courier New',monospace\"><span style=\"font-weight: bold\"> Optimizer params: </span><span style=\"color: #00af00; text-decoration-color: #00af00\">14,786,692</span> (56.41 MB)\n",
       "</pre>\n"
      ],
      "text/plain": [
       "\u001b[1m Optimizer params: \u001b[0m\u001b[38;5;34m14,786,692\u001b[0m (56.41 MB)\n"
      ]
     },
     "metadata": {},
     "output_type": "display_data"
    }
   ],
   "source": [
    "\n",
    "model.summary()\n",
    "\n"
   ]
  },
  {
   "cell_type": "code",
   "execution_count": 13,
   "metadata": {},
   "outputs": [
    {
     "name": "stdout",
     "output_type": "stream",
     "text": [
      "\u001b[1m415/415\u001b[0m \u001b[32m━━━━━━━━━━━━━━━━━━━━\u001b[0m\u001b[37m\u001b[0m \u001b[1m14s\u001b[0m 33ms/step\n",
      "Confusion Matrix:\n",
      "[[6367   45]\n",
      " [  85 6783]]\n",
      "Classification Report:\n",
      "              precision    recall  f1-score   support\n",
      "\n",
      "           0       0.99      0.99      0.99      6412\n",
      "           1       0.99      0.99      0.99      6868\n",
      "\n",
      "    accuracy                           0.99     13280\n",
      "   macro avg       0.99      0.99      0.99     13280\n",
      "weighted avg       0.99      0.99      0.99     13280\n",
      "\n"
     ]
    }
   ],
   "source": [
    "from sklearn.metrics import confusion_matrix, classification_report\n",
    "\n",
    "# Assuming model is your trained Keras model\n",
    "# data_generator generates batches of data (X, y)\n",
    "\n",
    "# Evaluate the model\n",
    "predictions = model.predict(data_generator(x_test_csr, y_test, batch_size), steps=validation_steps)\n",
    "y_pred = np.where(predictions > 0.5, 1, 0)\n",
    "\n",
    "# Compute confusion matrix\n",
    "conf_mat = confusion_matrix(y_test, y_pred)\n",
    "\n",
    "# Print confusion matrix\n",
    "print(\"Confusion Matrix:\")\n",
    "print(conf_mat)\n",
    "\n",
    "# Compute classification report\n",
    "class_report = classification_report(y_test, y_pred)\n",
    "\n",
    "# Print classification report\n",
    "print(\"Classification Report:\")\n",
    "print(class_report)\n"
   ]
  }
 ],
 "metadata": {
  "kernelspec": {
   "display_name": "Python 3",
   "language": "python",
   "name": "python3"
  },
  "language_info": {
   "codemirror_mode": {
    "name": "ipython",
    "version": 3
   },
   "file_extension": ".py",
   "mimetype": "text/x-python",
   "name": "python",
   "nbconvert_exporter": "python",
   "pygments_lexer": "ipython3",
   "version": "3.10.3"
  }
 },
 "nbformat": 4,
 "nbformat_minor": 2
}
